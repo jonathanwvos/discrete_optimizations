{
 "cells": [
  {
   "cell_type": "code",
   "execution_count": null,
   "metadata": {
    "scrolled": true
   },
   "outputs": [],
   "source": [
    "%load_ext iminizinc"
   ]
  },
  {
   "cell_type": "markdown",
   "metadata": {},
   "source": [
    "### Data Cell"
   ]
  },
  {
   "cell_type": "code",
   "execution_count": null,
   "metadata": {},
   "outputs": [],
   "source": [
    "nSpots = 10\n",
    "damage = [10, 8, 4, 2, 6, 9, 5, 3, 8, 10]\n",
    "SYMB = [1, 2, 3, 4, 5, 6, 7, 8]\n",
    "group = [[1,4,6], [1,2,6,7], [1,3,6,8], [1,2,3], [2,9,10], [5,6,8,10], [7,8,10], [1,3,5]]"
   ]
  },
  {
   "cell_type": "code",
   "execution_count": null,
   "metadata": {},
   "outputs": [],
   "source": [
    "%%minizinc -m bind\n",
    "\n",
    "int: nSpots;\n",
    "set of int: SPOT = 1..nSpots;\n",
    "array[SPOT] of int: damage;\n",
    "\n",
    "enum SYMB;\n",
    "array[SYMB] of set of SPOT: group;\n",
    "\n",
    "% var set of SPOT: attacks;"
   ]
  }
 ],
 "metadata": {
  "kernelspec": {
   "display_name": "Python 3",
   "language": "python",
   "name": "python3"
  },
  "language_info": {
   "codemirror_mode": {
    "name": "ipython",
    "version": 3
   },
   "file_extension": ".py",
   "mimetype": "text/x-python",
   "name": "python",
   "nbconvert_exporter": "python",
   "pygments_lexer": "ipython3",
   "version": "3.8.5"
  }
 },
 "nbformat": 4,
 "nbformat_minor": 2
}
